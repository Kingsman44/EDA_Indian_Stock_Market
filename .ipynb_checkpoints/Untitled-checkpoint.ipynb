{
 "cells": [
  {
   "cell_type": "code",
   "execution_count": 34,
   "id": "7d26bc91",
   "metadata": {},
   "outputs": [],
   "source": [
    "import numpy as np\n",
    "import pandas as pd\n",
    "import matplotlib.pyplot as plt\n",
    "import os\n",
    "import datetime\n",
    "\n",
    "company_name='aartind'\n",
    "\n",
    "def open_data(name):\n",
    "    return 'Stock_market_data\\\\'+name.upper()+'__EQ__NSE__NSE__MINUTE.csv'"
   ]
  },
  {
   "cell_type": "code",
   "execution_count": 35,
   "id": "293a423a",
   "metadata": {},
   "outputs": [
    {
     "name": "stdout",
     "output_type": "stream",
     "text": [
      "['AARTIIND__EQ__NSE__NSE__MINUTE.csv', 'ABCAPITAL__EQ__NSE__NSE__MINUTE.csv', 'ABFRL__EQ__NSE__NSE__MINUTE.csv', 'ADANIENT__EQ__NSE__NSE__MINUTE.csv', 'ADANIGAS__EQ__NSE__NSE__MINUTE.csv', 'ADANIPORTS__EQ__NSE__NSE__MINUTE.csv', 'AJANTPHARM__EQ__NSE__NSE__MINUTE.csv', 'AMARAJABAT__EQ__NSE__NSE__MINUTE.csv', 'APLLTD__EQ__NSE__NSE__MINUTE.csv', 'APOLLOHOSP__EQ__NSE__NSE__MINUTE.csv', 'APOLLOTYRE__EQ__NSE__NSE__MINUTE.csv', 'ASHOKLEY__EQ__NSE__NSE__MINUTE.csv', 'ASIANPAINT__EQ__NSE__NSE__MINUTE.csv', 'AUBANK__EQ__NSE__NSE__MINUTE.csv', 'AXISBANK__EQ__NSE__NSE__MINUTE.csv', 'BAJAJFINSV__EQ__NSE__NSE__MINUTE.csv', 'BAJAJ_AUTO__EQ__NSE__NSE__MINUTE.csv', 'BAJFINANCE__EQ__NSE__NSE__MINUTE.csv', 'BALKRISIND__EQ__NSE__NSE__MINUTE.csv', 'BANKINDIA__EQ__NSE__NSE__MINUTE.csv', 'BATAINDIA__EQ__NSE__NSE__MINUTE.csv', 'BBTC__EQ__NSE__NSE__MINUTE.csv', 'BEL__EQ__NSE__NSE__MINUTE.csv', 'BHARATFORG__EQ__NSE__NSE__MINUTE.csv', 'BHARTIARTL__EQ__NSE__NSE__MINUTE.csv', 'BHEL__EQ__NSE__NSE__MINUTE.csv', 'BPCL__EQ__NSE__NSE__MINUTE.csv', 'BRITANNIA__EQ__NSE__NSE__MINUTE.csv', 'CANBK__EQ__NSE__NSE__MINUTE.csv', 'CASTROLIND__EQ__NSE__NSE__MINUTE.csv', 'CESC__EQ__NSE__NSE__MINUTE.csv', 'CHOLAFIN__EQ__NSE__NSE__MINUTE.csv', 'CIPLA__EQ__NSE__NSE__MINUTE.csv', 'COALINDIA__EQ__NSE__NSE__MINUTE.csv', 'COFORGE__EQ__NSE__NSE__MINUTE.csv', 'COROMANDEL__EQ__NSE__NSE__MINUTE.csv', 'CROMPTON__EQ__NSE__NSE__MINUTE.csv', 'CUB__EQ__NSE__NSE__MINUTE.csv', 'CUMMINSIND__EQ__NSE__NSE__MINUTE.csv', 'DALBHARAT__EQ__NSE__NSE__MINUTE.csv', 'DHANI__EQ__NSE__NSE__MINUTE.csv', 'DIVISLAB__EQ__NSE__NSE__MINUTE.csv', 'DRREDDY__EQ__NSE__NSE__MINUTE.csv', 'EDELWEISS__EQ__NSE__NSE__MINUTE.csv', 'EICHERMOT__EQ__NSE__NSE__MINUTE.csv', 'EMAMILTD__EQ__NSE__NSE__MINUTE.csv', 'ENDURANCE__EQ__NSE__NSE__MINUTE.csv', 'ESCORTS__EQ__NSE__NSE__MINUTE.csv', 'EXIDEIND__EQ__NSE__NSE__MINUTE.csv', 'FEDERALBNK__EQ__NSE__NSE__MINUTE.csv', 'FORTIS__EQ__NSE__NSE__MINUTE.csv', 'FRETAIL__EQ__NSE__NSE__MINUTE.csv', 'GAIL__EQ__NSE__NSE__MINUTE.csv', 'GLENMARK__EQ__NSE__NSE__MINUTE.csv', 'GMRINFRA__EQ__NSE__NSE__MINUTE.csv', 'GODREJAGRO__EQ__NSE__NSE__MINUTE.csv', 'GODREJIND__EQ__NSE__NSE__MINUTE.csv', 'GODREJPROP__EQ__NSE__NSE__MINUTE.csv', 'GRASIM__EQ__NSE__NSE__MINUTE.csv', 'GSPL__EQ__NSE__NSE__MINUTE.csv', 'GUJGASLTD__EQ__NSE__NSE__MINUTE.csv', 'HCLTECH__EQ__NSE__NSE__MINUTE.csv', 'HDFCBANK__EQ__NSE__NSE__MINUTE.csv', 'HDFCLIFE__EQ__NSE__NSE__MINUTE.csv', 'HDFC__EQ__NSE__NSE__MINUTE.csv', 'HEROMOTOCO__EQ__NSE__NSE__MINUTE.csv', 'HINDALCO__EQ__NSE__NSE__MINUTE.csv', 'HINDUNILVR__EQ__NSE__NSE__MINUTE.csv', 'HUDCO__EQ__NSE__NSE__MINUTE.csv', 'IBULHSGFIN__EQ__NSE__NSE__MINUTE.csv', 'ICICIBANK__EQ__NSE__NSE__MINUTE.csv', 'IDEA__EQ__NSE__NSE__MINUTE.csv', 'IDFCFIRSTB__EQ__NSE__NSE__MINUTE.csv', 'INDHOTEL__EQ__NSE__NSE__MINUTE.csv', 'INDUSINDBK__EQ__NSE__NSE__MINUTE.csv', 'INFY__EQ__NSE__NSE__MINUTE.csv', 'IOC__EQ__NSE__NSE__MINUTE.csv', 'IPCALAB__EQ__NSE__NSE__MINUTE.csv', 'IRCTC__EQ__NSE__NSE__MINUTE.csv', 'ISEC__EQ__NSE__NSE__MINUTE.csv', 'ITC__EQ__NSE__NSE__MINUTE.csv', 'JINDALSTEL__EQ__NSE__NSE__MINUTE.csv', 'JSWENERGY__EQ__NSE__NSE__MINUTE.csv', 'JSWSTEEL__EQ__NSE__NSE__MINUTE.csv', 'JUBLFOOD__EQ__NSE__NSE__MINUTE.csv', 'KOTAKBANK__EQ__NSE__NSE__MINUTE.csv', 'LALPATHLAB__EQ__NSE__NSE__MINUTE.csv', 'LICHSGFIN__EQ__NSE__NSE__MINUTE.csv', 'LTTS__EQ__NSE__NSE__MINUTE.csv', 'LT__EQ__NSE__NSE__MINUTE.csv', 'L_TFH__EQ__NSE__NSE__MINUTE.csv', 'MANAPPURAM__EQ__NSE__NSE__MINUTE.csv', 'MARUTI__EQ__NSE__NSE__MINUTE.csv', 'MFSL__EQ__NSE__NSE__MINUTE.csv', 'MGL__EQ__NSE__NSE__MINUTE.csv', 'MINDTREE__EQ__NSE__NSE__MINUTE.csv', 'MPHASIS__EQ__NSE__NSE__MINUTE.csv', 'MRF__EQ__NSE__NSE__MINUTE.csv', 'M_MFIN__EQ__NSE__NSE__MINUTE.csv', 'M_M__EQ__NSE__NSE__MINUTE.csv', 'NAM_INDIA__EQ__NSE__NSE__MINUTE.csv', 'NATCOPHARM__EQ__NSE__NSE__MINUTE.csv', 'NATIONALUM__EQ__NSE__NSE__MINUTE.csv', 'NAVINFLUOR__EQ__NSE__NSE__MINUTE.csv', 'NESTLEIND__EQ__NSE__NSE__MINUTE.csv', 'NIFTY_100__EQ__INDICES__NSE__MINUTE.csv', 'NIFTY_500__EQ__INDICES__NSE__MINUTE.csv', 'NIFTY_50__EQ__INDICES__NSE__MINUTE.csv', 'NIFTY_AUTO__EQ__INDICES__NSE__MINUTE.csv', 'NIFTY_BANK__EQ__INDICES__NSE__MINUTE.csv', 'NIFTY_COMMODITIES__EQ__INDICES__NSE__MINUTE.csv', 'NIFTY_ENERGY__EQ__INDICES__NSE__MINUTE.csv', 'NIFTY_FIN_SERVICE__EQ__INDICES__NSE__MINUTE.csv', 'NIFTY_MIDCAP_100__EQ__INDICES__NSE__MINUTE.csv', 'NTPC__EQ__NSE__NSE__MINUTE.csv', 'OBEROIRLTY__EQ__NSE__NSE__MINUTE.csv', 'OIL__EQ__NSE__NSE__MINUTE.csv', 'ONGC__EQ__NSE__NSE__MINUTE.csv', 'PAGEIND__EQ__NSE__NSE__MINUTE.csv', 'PFIZER__EQ__NSE__NSE__MINUTE.csv', 'PIIND__EQ__NSE__NSE__MINUTE.csv', 'POLYCAB__EQ__NSE__NSE__MINUTE.csv', 'POWERGRID__EQ__NSE__NSE__MINUTE.csv', 'PRESTIGE__EQ__NSE__NSE__MINUTE.csv', 'RAJESHEXPO__EQ__NSE__NSE__MINUTE.csv', 'RAMCOCEM__EQ__NSE__NSE__MINUTE.csv', 'RBLBANK__EQ__NSE__NSE__MINUTE.csv', 'RECLTD__EQ__NSE__NSE__MINUTE.csv', 'RELIANCE__EQ__NSE__NSE__MINUTE.csv', 'SAIL__EQ__NSE__NSE__MINUTE.csv', 'SANOFI__EQ__NSE__NSE__MINUTE.csv', 'SBILIFE__EQ__NSE__NSE__MINUTE.csv', 'SBIN__EQ__NSE__NSE__MINUTE.csv', 'SHREECEM__EQ__NSE__NSE__MINUTE.csv', 'SRF__EQ__NSE__NSE__MINUTE.csv', 'SRTRANSFIN__EQ__NSE__NSE__MINUTE.csv', 'SUNPHARMA__EQ__NSE__NSE__MINUTE.csv', 'SUNTV__EQ__NSE__NSE__MINUTE.csv', 'SYNGENE__EQ__NSE__NSE__MINUTE.csv', 'TATACHEM__EQ__NSE__NSE__MINUTE.csv', 'TATAMOTORS__EQ__NSE__NSE__MINUTE.csv', 'TATAPOWER__EQ__NSE__NSE__MINUTE.csv', 'TATASTEEL__EQ__NSE__NSE__MINUTE.csv', 'TCS__EQ__NSE__NSE__MINUTE.csv', 'TECHM__EQ__NSE__NSE__MINUTE.csv', 'TITAN__EQ__NSE__NSE__MINUTE.csv', 'TORNTPOWER__EQ__NSE__NSE__MINUTE.csv', 'TRENT__EQ__NSE__NSE__MINUTE.csv', 'TVSMOTOR__EQ__NSE__NSE__MINUTE.csv', 'ULTRACEMCO__EQ__NSE__NSE__MINUTE.csv', 'UNIONBANK__EQ__NSE__NSE__MINUTE.csv', 'UPL__EQ__NSE__NSE__MINUTE.csv', 'VBL__EQ__NSE__NSE__MINUTE.csv', 'VGUARD__EQ__NSE__NSE__MINUTE.csv', 'VOLTAS__EQ__NSE__NSE__MINUTE.csv', 'WHIRLPOOL__EQ__NSE__NSE__MINUTE.csv', 'WIPRO__EQ__NSE__NSE__MINUTE.csv', 'YESBANK__EQ__NSE__NSE__MINUTE.csv', 'ZEEL__EQ__NSE__NSE__MINUTE.csv']\n"
     ]
    }
   ],
   "source": [
    "dir_list = os.listdir('Stock_market_data')\n",
    "print(dir_list)"
   ]
  },
  {
   "cell_type": "code",
   "execution_count": 37,
   "id": "e736f011",
   "metadata": {},
   "outputs": [],
   "source": [
    "filename='AARTIIND__EQ__NSE__NSE__MINUTE.csv'\n",
    "\n",
    "dp=pd.read_csv('Stock_market_data\\\\'+filename)\n",
    "dp['timestamp'] = pd.to_datetime(dp['timestamp'],format='%Y-%m-%d %H:%M:%S%z')\n",
    "dp['date']=dp['timestamp'].dt.date\n",
    "dp['time']=dp['timestamp'].dt.time"
   ]
  },
  {
   "cell_type": "code",
   "execution_count": 47,
   "id": "6e9d05e5",
   "metadata": {},
   "outputs": [],
   "source": [
    "from datetime import datetime\n",
    "\n",
    "def ptime(t):\n",
    "    return datetime.strptime(t, \"%H:%M:%S\").time()\n",
    "\n",
    "early_morning=ptime('10:30:00')\n",
    "late_morning=ptime('12:00:00')\n",
    "midday=ptime('01:30:00')"
   ]
  },
  {
   "cell_type": "code",
   "execution_count": 49,
   "id": "83663504",
   "metadata": {},
   "outputs": [],
   "source": [
    "for i in dp.index:\n",
    "    if dp['time'][i] <= early_morning:\n",
    "        dp.loc[i,'quater']='early morning'\n",
    "    elif dp['time'][i] < late_morning:\n",
    "        dp.loc[i,'quater']='late morning'\n",
    "    elif dp['time'][i] <= midday:\n",
    "        dp.loc[i,'quater']='midday'\n",
    "    else:\n",
    "        dp.loc[i,'quater']='afternoon'"
   ]
  },
  {
   "cell_type": "code",
   "execution_count": 40,
   "id": "3c56999f",
   "metadata": {},
   "outputs": [],
   "source": [
    "for i in dp.index:\n",
    "    if i == 0:\n",
    "        dp.loc[i,'%change']=0\n",
    "    else:\n",
    "        dp.loc[i,'%change']=(dp.loc[i,'close']-dp.loc[i-1,'close'])/dp.loc[i-1,'close']*100"
   ]
  },
  {
   "cell_type": "code",
   "execution_count": 41,
   "id": "6cb8b3fa",
   "metadata": {},
   "outputs": [],
   "source": [
    "import math\n",
    "sum1=0\n",
    "\n",
    "for i in dp.index:\n",
    "    if math.isnan(dp.loc[i,'close']):\n",
    "        dp.loc[i,'MA']=sum1\n",
    "    else:\n",
    "        dp.loc[i,'MA']=(sum1*i+dp.loc[i,'close'])/(i+1)\n",
    "        sum1=dp.loc[i,'MA']"
   ]
  },
  {
   "cell_type": "code",
   "execution_count": 42,
   "id": "97c1bf19",
   "metadata": {},
   "outputs": [
    {
     "name": "stdout",
     "output_type": "stream",
     "text": [
      "                       timestamp     open    high     low    close  volume  \\\n",
      "0      2017-01-02 09:15:00+05:30   340.00   340.0   340.0   340.00    11.0   \n",
      "1      2017-01-02 09:16:00+05:30   340.00   340.0   340.0   340.00     0.0   \n",
      "2      2017-01-02 09:17:00+05:30   340.00   340.0   340.0   340.00     0.0   \n",
      "3      2017-01-02 09:18:00+05:30   340.00   343.7   340.0   343.70     1.0   \n",
      "4      2017-01-02 09:19:00+05:30   343.70   343.7   343.7   343.70     1.0   \n",
      "...                          ...      ...     ...     ...      ...     ...   \n",
      "370453 2021-01-01 15:25:00+05:30  1261.05  1261.4  1259.5  1260.00   771.0   \n",
      "370454 2021-01-01 15:26:00+05:30  1260.00  1261.0  1259.6  1260.85   902.0   \n",
      "370455 2021-01-01 15:27:00+05:30  1260.90  1260.9  1259.6  1260.10  1104.0   \n",
      "370456 2021-01-01 15:28:00+05:30  1260.50  1260.9  1259.6  1260.00  2484.0   \n",
      "370457 2021-01-01 15:29:00+05:30  1259.60  1260.0  1257.2  1260.00   834.0   \n",
      "\n",
      "              date      time     quater   %change          MA  \n",
      "0       2017-01-02  09:15:00    morning  0.000000  340.000000  \n",
      "1       2017-01-02  09:16:00    morning  0.000000  340.000000  \n",
      "2       2017-01-02  09:17:00    morning  0.000000  340.000000  \n",
      "3       2017-01-02  09:18:00    morning  1.088235  340.925000  \n",
      "4       2017-01-02  09:19:00    morning  0.000000  341.480000  \n",
      "...            ...       ...        ...       ...         ...  \n",
      "370453  2021-01-01  15:25:00  afternoon -0.083264  716.842904  \n",
      "370454  2021-01-01  15:26:00  afternoon  0.067460  716.844372  \n",
      "370455  2021-01-01  15:27:00  afternoon -0.059484  716.845839  \n",
      "370456  2021-01-01  15:28:00  afternoon -0.007936  716.847305  \n",
      "370457  2021-01-01  15:29:00  afternoon  0.000000  716.848771  \n",
      "\n",
      "[370458 rows x 11 columns]\n"
     ]
    }
   ],
   "source": [
    "print(dp)"
   ]
  },
  {
   "cell_type": "code",
   "execution_count": 44,
   "id": "d85d76b0",
   "metadata": {},
   "outputs": [
    {
     "name": "stdout",
     "output_type": "stream",
     "text": [
      "['timestamp', 'open', 'high', 'low', 'close', 'volume', 'date', 'time', 'quater', '%change', 'MA']\n"
     ]
    }
   ],
   "source": [
    "print(list(dp.columns))"
   ]
  },
  {
   "cell_type": "code",
   "execution_count": 45,
   "id": "89c1779d",
   "metadata": {},
   "outputs": [],
   "source": [
    "dp=dp[['timestamp','date', 'time', 'quater', 'open', 'high', 'low', 'close', 'volume', '%change', 'MA']]"
   ]
  },
  {
   "cell_type": "code",
   "execution_count": 50,
   "id": "e0a2f35e",
   "metadata": {},
   "outputs": [
    {
     "name": "stdout",
     "output_type": "stream",
     "text": [
      "                       timestamp        date      time         quater  \\\n",
      "0      2017-01-02 09:15:00+05:30  2017-01-02  09:15:00  early morning   \n",
      "1      2017-01-02 09:16:00+05:30  2017-01-02  09:16:00  early morning   \n",
      "2      2017-01-02 09:17:00+05:30  2017-01-02  09:17:00  early morning   \n",
      "3      2017-01-02 09:18:00+05:30  2017-01-02  09:18:00  early morning   \n",
      "4      2017-01-02 09:19:00+05:30  2017-01-02  09:19:00  early morning   \n",
      "...                          ...         ...       ...            ...   \n",
      "370453 2021-01-01 15:25:00+05:30  2021-01-01  15:25:00      afternoon   \n",
      "370454 2021-01-01 15:26:00+05:30  2021-01-01  15:26:00      afternoon   \n",
      "370455 2021-01-01 15:27:00+05:30  2021-01-01  15:27:00      afternoon   \n",
      "370456 2021-01-01 15:28:00+05:30  2021-01-01  15:28:00      afternoon   \n",
      "370457 2021-01-01 15:29:00+05:30  2021-01-01  15:29:00      afternoon   \n",
      "\n",
      "           open    high     low    close  volume   %change          MA  \n",
      "0        340.00   340.0   340.0   340.00    11.0  0.000000  340.000000  \n",
      "1        340.00   340.0   340.0   340.00     0.0  0.000000  340.000000  \n",
      "2        340.00   340.0   340.0   340.00     0.0  0.000000  340.000000  \n",
      "3        340.00   343.7   340.0   343.70     1.0  1.088235  340.925000  \n",
      "4        343.70   343.7   343.7   343.70     1.0  0.000000  341.480000  \n",
      "...         ...     ...     ...      ...     ...       ...         ...  \n",
      "370453  1261.05  1261.4  1259.5  1260.00   771.0 -0.083264  716.842904  \n",
      "370454  1260.00  1261.0  1259.6  1260.85   902.0  0.067460  716.844372  \n",
      "370455  1260.90  1260.9  1259.6  1260.10  1104.0 -0.059484  716.845839  \n",
      "370456  1260.50  1260.9  1259.6  1260.00  2484.0 -0.007936  716.847305  \n",
      "370457  1259.60  1260.0  1257.2  1260.00   834.0  0.000000  716.848771  \n",
      "\n",
      "[370458 rows x 11 columns]\n"
     ]
    }
   ],
   "source": [
    "print(dp)"
   ]
  },
  {
   "cell_type": "code",
   "execution_count": 53,
   "id": "af03652c",
   "metadata": {},
   "outputs": [],
   "source": [
    "dp.to_csv('Updated_Stock_market_data\\\\abcd.csv',index=False)"
   ]
  },
  {
   "cell_type": "code",
   "execution_count": null,
   "id": "c6989ab0",
   "metadata": {},
   "outputs": [],
   "source": [
    "for filename in dir_list:\n",
    "    dp=pd.read_csv('Stock_market_data\\\\'+filename)\n",
    "    dp['timestamp'] = pd.to_datetime(dp['timestamp'],format='%Y-%m-%d %H:%M:%S%z')\n",
    "    dp['date']=dp['timestamp'].dt.date\n",
    "    dp['time']=dp['timestamp'].dt.time\n",
    "    \n",
    "    sum1=0\n",
    "    for i in dp.index:\n",
    "        if dp['time'][i] <= early_morning:\n",
    "            dp.loc[i,'quater']='early morning'\n",
    "        elif dp['time'][i] < late_morning:\n",
    "            dp.loc[i,'quater']='late morning'\n",
    "        elif dp['time'][i] <= midday:\n",
    "            dp.loc[i,'quater']='midday'\n",
    "        else:\n",
    "            dp.loc[i,'quater']='afternoon'\n",
    "\n",
    "        if i == 0:\n",
    "            dp.loc[i,'%change']=0\n",
    "        else:\n",
    "            dp.loc[i,'%change']=(dp.loc[i,'close']-dp.loc[i-1,'close'])/dp.loc[i-1,'close']*100\n",
    "    \n",
    "        if math.isnan(dp.loc[i,'close']):\n",
    "            dp.loc[i,'MA']=sum1\n",
    "        else:\n",
    "            dp.loc[i,'MA']=(sum1*i+dp.loc[i,'close'])/(i+1)\n",
    "            sum1=dp.loc[i,'MA']\n",
    "        \n",
    "        dp=dp[['timestamp','date', 'time', 'quater', 'open', 'high', 'low', 'close', 'volume', '%change', 'MA']]"
   ]
  }
 ],
 "metadata": {
  "kernelspec": {
   "display_name": "Python 3 (ipykernel)",
   "language": "python",
   "name": "python3"
  },
  "language_info": {
   "codemirror_mode": {
    "name": "ipython",
    "version": 3
   },
   "file_extension": ".py",
   "mimetype": "text/x-python",
   "name": "python",
   "nbconvert_exporter": "python",
   "pygments_lexer": "ipython3",
   "version": "3.9.16"
  }
 },
 "nbformat": 4,
 "nbformat_minor": 5
}
